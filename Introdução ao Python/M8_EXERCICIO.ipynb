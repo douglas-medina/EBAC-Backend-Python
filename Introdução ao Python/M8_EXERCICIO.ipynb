{
  "nbformat": 4,
  "nbformat_minor": 0,
  "metadata": {
    "colab": {
      "provenance": []
    },
    "kernelspec": {
      "name": "python3",
      "display_name": "Python 3"
    },
    "language_info": {
      "name": "python"
    }
  },
  "cells": [
    {
      "cell_type": "markdown",
      "source": [
        "# Tratando erros"
      ],
      "metadata": {
        "id": "0NwAg85RiL13"
      }
    },
    {
      "cell_type": "code",
      "execution_count": 2,
      "metadata": {
        "colab": {
          "base_uri": "https://localhost:8080/"
        },
        "id": "VQVPDEOBiGdb",
        "outputId": "c6fbea81-a4bf-4838-f04c-8895a4fe64b7"
      },
      "outputs": [
        {
          "output_type": "stream",
          "name": "stdout",
          "text": [
            "Para o documento 123, o valor do escore de crédito é 750.\n",
            "Para o documento 456, o valor do escore de crédito é 812.\n",
            "Para o documento 789, o valor do escore de crédito é 980.\n"
          ]
        }
      ],
      "source": [
        "credito = {'123': 750, '456': 812, '789': 980}\n",
        "for chave, valor in credito.items():\n",
        " print(f'Para o documento {chave}, ' + \\\n",
        " f'o valor do escore de crédito é {valor}.'\n",
        " )\n"
      ]
    },
    {
      "cell_type": "code",
      "source": [
        "def pi():\n",
        " return float(3.14159265359)\n",
        "pi = pi()\n",
        "print(pi)"
      ],
      "metadata": {
        "colab": {
          "base_uri": "https://localhost:8080/"
        },
        "id": "NGUH76cRinIx",
        "outputId": "a5c8d664-b0fc-4adf-983d-cf70ee19c50f"
      },
      "execution_count": 6,
      "outputs": [
        {
          "output_type": "stream",
          "name": "stdout",
          "text": [
            "3.14159265359\n"
          ]
        }
      ]
    },
    {
      "cell_type": "code",
      "source": [
        "emails = [\n",
        " 'andre.perez@gmail.com',\n",
        " 'andre.perez@live.com',\n",
        " 'andre.perez@yahoo.com'\n",
        "]\n",
        "provedor_da_google = (lambda email: 'gmail' in email)\n",
        "emails_google = filter(provedor_da_google, emails)\n",
        "print(list(emails_google))\n"
      ],
      "metadata": {
        "colab": {
          "base_uri": "https://localhost:8080/"
        },
        "id": "WUCKlp6xjA86",
        "outputId": "b77d5232-0733-4bd3-b203-54bbadde14e9"
      },
      "execution_count": 9,
      "outputs": [
        {
          "output_type": "stream",
          "name": "stdout",
          "text": [
            "['andre.perez@gmail.com']\n"
          ]
        }
      ]
    },
    {
      "cell_type": "code",
      "source": [
        "class Pessoa(object):\n",
        "    def __init__(self, nome: str, idade: int, documento: str):\n",
        "        self.nome = nome\n",
        "        self.idade = idade\n",
        "        self.documento = documento\n",
        "\n",
        "    def __str__(self):\n",
        "        return f\"Nome: {self.nome}, Idade: {self.idade}, Documento: {self.documento}\"\n",
        "\n",
        "andre = Pessoa(nome=\"Andre\", idade=30, documento=\"123\")\n",
        "print(andre)\n"
      ],
      "metadata": {
        "colab": {
          "base_uri": "https://localhost:8080/"
        },
        "id": "kcYz0L2Ojd0H",
        "outputId": "ba21fdd3-772e-4792-d035-daded8d6aab0"
      },
      "execution_count": 24,
      "outputs": [
        {
          "output_type": "stream",
          "name": "stdout",
          "text": [
            "Nome: Andre, Idade: 30, Documento: 123\n"
          ]
        }
      ]
    },
    {
      "cell_type": "code",
      "source": [
        "%%writefile credito.csv\n",
        "id_vendedor,valor_emprestimos,quantidade_emprestimos,data\n",
        "104271,448.0,1,20161208\n",
        "21476,826.7,3,20161208\n",
        "87440,313.6,3,20161208\n",
        "15980,808.0,6,20161208\n",
        "215906,2212.0,5,20161208\n",
        "33696,2771.3,2,20161208\n",
        "33893,2240.0,3,20161208\n",
        "214946,\"4151.0\",18,20161208\n",
        "123974,2021.95,2,20161208\n",
        "225870,4039.0,2,20161208"
      ],
      "metadata": {
        "colab": {
          "base_uri": "https://localhost:8080/"
        },
        "id": "IzXIE2zAkxSa",
        "outputId": "16733ab7-c7bb-45c1-ba7a-07450d1f7c79"
      },
      "execution_count": 25,
      "outputs": [
        {
          "output_type": "stream",
          "name": "stdout",
          "text": [
            "Writing credito.csv\n"
          ]
        }
      ]
    },
    {
      "cell_type": "code",
      "source": [
        "def valor_total_emprestimo(valor: float, quantidade: int) -> float:\n",
        "    return valor * quantidade\n",
        "\n",
        "emprestimos = []\n",
        "\n",
        "with open(file='./credito.csv', mode='r', encoding='utf8') as fp:\n",
        "    fp.readline()  # cabeçalho\n",
        "    linha = fp.readline()\n",
        "    while linha:\n",
        "        linha_emprestimo = {}\n",
        "        linha_elementos = linha.strip().split(sep=',')\n",
        "        linha_emprestimo['id_vendedor'] = linha_elementos[0]\n",
        "        linha_emprestimo['valor_emprestimos'] = float(linha_elementos[1].strip('\"'))\n",
        "        # print(linha_emprestimo['valor_emprestimos'])\n",
        "        linha_emprestimo['quantidade_emprestimos'] = int(linha_elementos[2])\n",
        "        linha_emprestimo['data'] = linha_elementos[3]\n",
        "        emprestimos.append(linha_emprestimo)\n",
        "        linha = fp.readline()\n",
        "\n",
        "emprestimos_total = []\n",
        "\n",
        "for emprestimo in emprestimos:\n",
        "    valor_total = valor_total_emprestimo(\n",
        "        valor=emprestimo['valor_emprestimos'],\n",
        "        quantidade=emprestimo['quantidade_emprestimos']\n",
        "    )\n",
        "    emprestimos_total.append({emprestimo['id_vendedor']: valor_total})\n",
        "\n",
        "for emprestimo_total in emprestimos_total:\n",
        "    print(emprestimo_total)\n"
      ],
      "metadata": {
        "colab": {
          "base_uri": "https://localhost:8080/"
        },
        "id": "7saXSfwnkyqi",
        "outputId": "4d17a8f5-dd02-48c5-b5da-f0bc809ed844"
      },
      "execution_count": 29,
      "outputs": [
        {
          "output_type": "stream",
          "name": "stdout",
          "text": [
            "{'104271': 448.0}\n",
            "{'21476': 2480.1000000000004}\n",
            "{'87440': 940.8000000000001}\n",
            "{'15980': 4848.0}\n",
            "{'215906': 11060.0}\n",
            "{'33696': 5542.6}\n",
            "{'33893': 6720.0}\n",
            "{'214946': 74718.0}\n",
            "{'123974': 4043.9}\n",
            "{'225870': 8078.0}\n"
          ]
        }
      ]
    }
  ]
}